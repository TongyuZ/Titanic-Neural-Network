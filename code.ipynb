{
 "cells":[
  {
   "cell_type":"code",
   "source":[
    "'''\n",
    "   In this program, I'm gonna follow the following steps to predict\n",
    "   the probability of survival.\n",
    "       1. analyze and select features\n",
    "       2. create a neural network to predict\n",
    "       3. check the performance of a model\n",
    "       4. adjust the model\n",
    "'''\n",
    "\n",
    "import pandas as pd\n",
    "from sklearn.preprocessing import StandardScaler\n",
    "\n",
    "train_data = pd.read_csv(\".\/train.csv\")\n",
    "\n",
    "print(train_data.head(5))\n",
    "\n",
    "\n",
    "## Features\n",
    "\n",
    "# Name has no effect on the model, so I just ignore it.\n",
    "# Sex, first check if there is missing value\n",
    "train_data['Sex'].isnull().sum(axis=0)\n",
    "\n",
    "# map the two genders to 0 and 1\n",
    "train_data.Sex = train_data.Sex.map({'male':0, 'female':1})\n",
    "train_data[['Sex', 'Survived']].groupby(['Sex'], as_index=False).mean()\n",
    "\n",
    "# We could see from above that female has higher survival rate than male.\n",
    "\n",
    "# Pclass\n",
    "train_data['Sex'].isnull().sum(axis=0)\n",
    "\n",
    "train_data[['Pclass', 'Survived']].groupby(['Pclass'], as_index=False).mean()\n",
    "\n",
    "# We could see from above that the higher the class, the higher the survival rate.\n",
    "\n",
    "# Age\n",
    "train_data['Age'].isnull().sum(axis=0)\n",
    "\n",
    "# A lot of missing values, I would use it as a feature to train the model.\n",
    "\n",
    "# SibSp \n",
    "train_data.SibSp.isnull().sum(axis=0)\n",
    "\n",
    "train_data[['SibSp', 'Survived']].groupby(['SibSp'], as_index=False).mean()\n",
    "\n",
    "# Parch\n",
    "train_data.Parch.isnull().sum(axis=0)\n",
    "train_data[['Parch', 'Survived']].groupby(['Parch'], as_index=False).mean()\n",
    "\n",
    "# Feature engineering, combine Parch and SibSp to be the number of families\n",
    "train_data['Families'] = train_data['SibSp'] + train_data['Parch'] + 1\n",
    "train_data[['Families', 'Survived']].groupby(['Families'], as_index=False).mean()\n",
    "\n",
    "# Fare\n",
    "# We need to normalize the fare data because it is too large\n",
    "train_data.Fare.isnull().sum(axis=0)\n",
    "train_data[['Fare', 'Survived']].groupby(['Survived'], as_index=False).mean()\n",
    "\n",
    "# From above, we see that it seems survived people bought more expensive tickets.\n",
    "\n",
    "# I will first leave Cabin, Ticket, Embarked aside, and train the model with the features I mentioned before.\n",
    "\n",
    "## Train the model\n",
    "\n",
    "Features = ['Pclass', 'Sex', 'Families', 'Fare']\n",
    "\n",
    "# Normalize the Fare\n",
    "scaler = StandardScaler()\n",
    "fare_norm = scaler.fit_transform(train_data.Fare.values.reshape(-1, 1))\n",
    "train_data['fare_norm'] = fare_norm\n",
    "\n",
    "y_train = train_data['Survived'].values\n",
    "X_train = train_data[['Pclass', 'Sex', 'Families', 'fare_norm']].values"
   ],
   "execution_count":30,
   "outputs":[
    {
     "name":"stdout",
     "text":[
      "   PassengerId  Survived  Pclass  \\\n",
      "0            1         0       3   \n",
      "1            2         1       1   \n",
      "2            3         1       3   \n",
      "3            4         1       1   \n",
      "4            5         0       3   \n",
      "\n",
      "                                                Name     Sex   Age  SibSp  \\\n",
      "0                            Braund, Mr. Owen Harris    male  22.0      1   \n",
      "1  Cumings, Mrs. John Bradley (Florence Briggs Th...  female  38.0      1   \n",
      "2                             Heikkinen, Miss. Laina  female  26.0      0   \n",
      "3       Futrelle, Mrs. Jacques Heath (Lily May Peel)  female  35.0      1   \n",
      "4                           Allen, Mr. William Henry    male  35.0      0   \n",
      "\n",
      "   Parch            Ticket     Fare Cabin Embarked  \n",
      "0      0         A\/5 21171   7.2500   NaN        S  \n",
      "1      0          PC 17599  71.2833   C85        C  \n",
      "2      0  STON\/O2. 3101282   7.9250   NaN        S  \n",
      "3      0            113803  53.1000  C123        S  \n",
      "4      0            373450   8.0500   NaN        S  \n"
     ],
     "output_type":"stream"
    }
   ],
   "metadata":{
    "datalore":{
     "node_id":"mPx6x4R8fvUvGwStJXZKEQ",
     "type":"CODE",
     "hide_input_from_viewers":true,
     "hide_output_from_viewers":true
    }
   }
  },
  {
   "cell_type":"code",
   "source":[
    "# Neural Network\n",
    "import tensorflow as tf\n",
    "from tensorflow.keras.models import Sequential\n",
    "from tensorflow.keras.layers import Dense"
   ],
   "execution_count":31,
   "outputs":[
    
   ],
   "metadata":{
    "datalore":{
     "node_id":"zQ9yAUM7baGU5oWwwOnz9g",
     "type":"CODE",
     "hide_input_from_viewers":true,
     "hide_output_from_viewers":true
    }
   }
  },
  {
   "cell_type":"code",
   "source":[
    "# creat model\n",
    "\n",
    "model = Sequential(\n",
    "    [   \n",
    "        tf.keras.Input(shape=(4,)),\n",
    "        Dense(units = 2, activation = 'relu'),\n",
    "        Dense(units = 1, activation = 'sigmoid')\n",
    "\n",
    "    ], name = \"titanic\" \n",
    ")   "
   ],
   "execution_count":32,
   "outputs":[
    
   ],
   "metadata":{
    "datalore":{
     "node_id":"Evt0pvoGNxqTfmqBiLp50F",
     "type":"CODE",
     "hide_input_from_viewers":true,
     "hide_output_from_viewers":true
    }
   }
  },
  {
   "cell_type":"code",
   "source":[
    "model.compile(\n",
    "    loss=tf.keras.losses.BinaryCrossentropy(),\n",
    "    optimizer=tf.keras.optimizers.Adam(learning_rate=0.001),\n",
    ")\n",
    "\n",
    "history = model.fit(X_train, y_train,epochs=20)"
   ],
   "execution_count":33,
   "outputs":[
    {
     "name":"stdout",
     "text":[
      "Epoch 1\/20\n",
      "\r 1\/28 [>.............................] - ETA: 10s - loss: 0.8554\b\b\b\b\b\b\b\b\b\b\b\b\b\b\b\b\b\b\b\b\b\b\b\b\b\b\b\b\b\b\b\b\b\b\b\b\b\b\b\b\b\b\b\b\b\b\b\b\b\b\b\b\b\b\b\b\b\b\b\b\b\b\b\b\r28\/28 [==============================] - 0s 1ms\/step - loss: 0.8460\n",
      "Epoch 2\/20\n",
      "\r 1\/28 [>.............................] - ETA: 0s - loss: 1.1519\b\b\b\b\b\b\b\b\b\b\b\b\b\b\b\b\b\b\b\b\b\b\b\b\b\b\b\b\b\b\b\b\b\b\b\b\b\b\b\b\b\b\b\b\b\b\b\b\b\b\b\b\b\b\b\b\b\b\b\b\b\b\b\r28\/28 [==============================] - 0s 1ms\/step - loss: 0.7879\n",
      "Epoch 3\/20\n",
      "\r 1\/28 [>.............................] - ETA: 0s - loss: 0.7403\b\b\b\b\b\b\b\b\b\b\b\b\b\b\b\b\b\b\b\b\b\b\b\b\b\b\b\b\b\b\b\b\b\b\b\b\b\b\b\b\b\b\b\b\b\b\b\b\b\b\b\b\b\b\b\b\b\b\b\b\b\b\b\r28\/28 [==============================] - 0s 1ms\/step - loss: 0.7424\n",
      "Epoch 4\/20\n",
      "\r 1\/28 [>.............................] - ETA: 0s - loss: 0.5131\b\b\b\b\b\b\b\b\b\b\b\b\b\b\b\b\b\b\b\b\b\b\b\b\b\b\b\b\b\b\b\b\b\b\b\b\b\b\b\b\b\b\b\b\b\b\b\b\b\b\b\b\b\b\b\b\b\b\b\b\b\b\b\r28\/28 [==============================] - 0s 1ms\/step - loss: 0.7063\n",
      "Epoch 5\/20\n",
      "\r 1\/28 [>.............................] - ETA: 0s - loss: 0.7230\b\b\b\b\b\b\b\b\b\b\b\b\b\b\b\b\b\b\b\b\b\b\b\b\b\b\b\b\b\b\b\b\b\b\b\b\b\b\b\b\b\b\b\b\b\b\b\b\b\b\b\b\b\b\b\b\b\b\b\b\b\b\b\r28\/28 [==============================] - 0s 1ms\/step - loss: 0.6802\n",
      "Epoch 6\/20\n",
      "\r 1\/28 [>.............................] - ETA: 0s - loss: 0.6942\b\b\b\b\b\b\b\b\b\b\b\b\b\b\b\b\b\b\b\b\b\b\b\b\b\b\b\b\b\b\b\b\b\b\b\b\b\b\b\b\b\b\b\b\b\b\b\b\b\b\b\b\b\b\b\b\b\b\b\b\b\b\b\r28\/28 [==============================] - 0s 1ms\/step - loss: 0.6599\n",
      "Epoch 7\/20\n",
      "\r 1\/28 [>.............................] - ETA: 0s - loss: 0.7050\b\b\b\b\b\b\b\b\b\b\b\b\b\b\b\b\b\b\b\b\b\b\b\b\b\b\b\b\b\b\b\b\b\b\b\b\b\b\b\b\b\b\b\b\b\b\b\b\b\b\b\b\b\b\b\b\b\b\b\b\b\b\b\r28\/28 [==============================] - 0s 1ms\/step - loss: 0.6461\n",
      "Epoch 8\/20\n",
      "\r 1\/28 [>.............................] - ETA: 0s - loss: 0.6129\b\b\b\b\b\b\b\b\b\b\b\b\b\b\b\b\b\b\b\b\b\b\b\b\b\b\b\b\b\b\b\b\b\b\b\b\b\b\b\b\b\b\b\b\b\b\b\b\b\b\b\b\b\b\b\b\b\b\b\b\b\b\b\r28\/28 [==============================] - 0s 1ms\/step - loss: 0.6343\n",
      "Epoch 9\/20\n",
      "\r 1\/28 [>.............................] - ETA: 0s - loss: 0.6172\b\b\b\b\b\b\b\b\b\b\b\b\b\b\b\b\b\b\b\b\b\b\b\b\b\b\b\b\b\b\b\b\b\b\b\b\b\b\b\b\b\b\b\b\b\b\b\b\b\b\b\b\b\b\b\b\b\b\b\b\b\b\b\r28\/28 [==============================] - 0s 1ms\/step - loss: 0.6257\n",
      "Epoch 10\/20\n",
      "\r 1\/28 [>.............................] - ETA: 0s - loss: 0.5098\b\b\b\b\b\b\b\b\b\b\b\b\b\b\b\b\b\b\b\b\b\b\b\b\b\b\b\b\b\b\b\b\b\b\b\b\b\b\b\b\b\b\b\b\b\b\b\b\b\b\b\b\b\b\b\b\b\b\b\b\b\b\b\r28\/28 [==============================] - 0s 1ms\/step - loss: 0.6189\n",
      "Epoch 11\/20\n",
      "\r 1\/28 [>.............................] - ETA: 0s - loss: 0.5407\b\b\b\b\b\b\b\b\b\b\b\b\b\b\b\b\b\b\b\b\b\b\b\b\b\b\b\b\b\b\b\b\b\b\b\b\b\b\b\b\b\b\b\b\b\b\b\b\b\b\b\b\b\b\b\b\b\b\b\b\b\b\b\r28\/28 [==============================] - 0s 1ms\/step - loss: 0.6129\n",
      "Epoch 12\/20\n",
      "\r 1\/28 [>.............................] - ETA: 0s - loss: 0.7037\b\b\b\b\b\b\b\b\b\b\b\b\b\b\b\b\b\b\b\b\b\b\b\b\b\b\b\b\b\b\b\b\b\b\b\b\b\b\b\b\b\b\b\b\b\b\b\b\b\b\b\b\b\b\b\b\b\b\b\b\b\b\b\r28\/28 [==============================] - 0s 1ms\/step - loss: 0.6083\n",
      "Epoch 13\/20\n",
      "\r 1\/28 [>.............................] - ETA: 0s - loss: 0.6940\b\b\b\b\b\b\b\b\b\b\b\b\b\b\b\b\b\b\b\b\b\b\b\b\b\b\b\b\b\b\b\b\b\b\b\b\b\b\b\b\b\b\b\b\b\b\b\b\b\b\b\b\b\b\b\b\b\b\b\b\b\b\b\r28\/28 [==============================] - 0s 1ms\/step - loss: 0.6044\n",
      "Epoch 14\/20\n",
      "\r 1\/28 [>.............................] - ETA: 0s - loss: 0.6495\b\b\b\b\b\b\b\b\b\b\b\b\b\b\b\b\b\b\b\b\b\b\b\b\b\b\b\b\b\b\b\b\b\b\b\b\b\b\b\b\b\b\b\b\b\b\b\b\b\b\b\b\b\b\b\b\b\b\b\b\b\b\b\r28\/28 [==============================] - 0s 1ms\/step - loss: 0.6011\n",
      "Epoch 15\/20\n",
      "\r 1\/28 [>.............................] - ETA: 0s - loss: 0.6204\b\b\b\b\b\b\b\b\b\b\b\b\b\b\b\b\b\b\b\b\b\b\b\b\b\b\b\b\b\b\b\b\b\b\b\b\b\b\b\b\b\b\b\b\b\b\b\b\b\b\b\b\b\b\b\b\b\b\b\b\b\b\b\r28\/28 [==============================] - 0s 1ms\/step - loss: 0.5983\n",
      "Epoch 16\/20\n",
      "\r 1\/28 [>.............................] - ETA: 0s - loss: 0.6398\b\b\b\b\b\b\b\b\b\b\b\b\b\b\b\b\b\b\b\b\b\b\b\b\b\b\b\b\b\b\b\b\b\b\b\b\b\b\b\b\b\b\b\b\b\b\b\b\b\b\b\b\b\b\b\b\b\b\b\b\b\b\b\r28\/28 [==============================] - 0s 1ms\/step - loss: 0.5954\n",
      "Epoch 17\/20\n",
      "\r 1\/28 [>.............................] - ETA: 0s - loss: 0.5615\b\b\b\b\b\b\b\b\b\b\b\b\b\b\b\b\b\b\b\b\b\b\b\b\b\b\b\b\b\b\b\b\b\b\b\b\b\b\b\b\b\b\b\b\b\b\b\b\b\b\b\b\b\b\b\b\b\b\b\b\b\b\b\r28\/28 [==============================] - 0s 1ms\/step - loss: 0.5927\n",
      "Epoch 18\/20\n",
      "\r 1\/28 [>.............................] - ETA: 0s - loss: 0.5618\b\b\b\b\b\b\b\b\b\b\b\b\b\b\b\b\b\b\b\b\b\b\b\b\b\b\b\b\b\b\b\b\b\b\b\b\b\b\b\b\b\b\b\b\b\b\b\b\b\b\b\b\b\b\b\b\b\b\b\b\b\b\b\r28\/28 [==============================] - 0s 1ms\/step - loss: 0.5901\n",
      "Epoch 19\/20\n",
      "\r 1\/28 [>.............................] - ETA: 0s - loss: 0.6077\b\b\b\b\b\b\b\b\b\b\b\b\b\b\b\b\b\b\b\b\b\b\b\b\b\b\b\b\b\b\b\b\b\b\b\b\b\b\b\b\b\b\b\b\b\b\b\b\b\b\b\b\b\b\b\b\b\b\b\b\b\b\b\r28\/28 [==============================] - 0s 2ms\/step - loss: 0.5875\n",
      "Epoch 20\/20\n",
      "\r 1\/28 [>.............................] - ETA: 0s - loss: 0.5311\b\b\b\b\b\b\b\b\b\b\b\b\b\b\b\b\b\b\b\b\b\b\b\b\b\b\b\b\b\b\b\b\b\b\b\b\b\b\b\b\b\b\b\b\b\b\b\b\b\b\b\b\b\b\b\b\b\b\b\b\b\b\b\r28\/28 [==============================] - 0s 1ms\/step - loss: 0.5852\n"
     ],
     "output_type":"stream"
    }
   ],
   "metadata":{
    "datalore":{
     "node_id":"CmCHRiuShXnS2pDRMyXI97",
     "type":"CODE",
     "hide_input_from_viewers":true,
     "hide_output_from_viewers":true
    }
   }
  },
  {
   "cell_type":"code",
   "source":[
    "model.summary()"
   ],
   "execution_count":34,
   "outputs":[
    {
     "name":"stdout",
     "text":[
      "Model: \"titanic\"\n",
      "_________________________________________________________________\n",
      " Layer (type)                Output Shape              Param #   \n",
      "=================================================================\n",
      " dense_4 (Dense)             (None, 2)                 10        \n",
      "                                                                 \n",
      " dense_5 (Dense)             (None, 1)                 3         \n",
      "                                                                 \n",
      "=================================================================\n",
      "Total params: 13\n",
      "Trainable params: 13\n",
      "Non-trainable params: 0\n",
      "_________________________________________________________________\n"
     ],
     "output_type":"stream"
    }
   ],
   "metadata":{
    "datalore":{
     "node_id":"7FBNOhWJcLGZecEYwxNqmB",
     "type":"CODE",
     "hide_input_from_viewers":true,
     "hide_output_from_viewers":true
    }
   }
  },
  {
   "cell_type":"code",
   "source":[
    "test_data = pd.read_csv('.\/test.csv')"
   ],
   "execution_count":35,
   "outputs":[
    
   ],
   "metadata":{
    "datalore":{
     "node_id":"Ieyr84OuR2jZfLlwx3ZMwB",
     "type":"CODE",
     "hide_input_from_viewers":true,
     "hide_output_from_viewers":true
    }
   }
  },
  {
   "cell_type":"code",
   "source":[
    "test_data.Sex = test_data.Sex.map({'male':0, 'female':1})\n",
    "fare_norm = scaler.fit_transform(test_data.Fare.values.reshape(-1, 1))\n",
    "test_data['fare_norm'] = fare_norm\n",
    "test_data['Families'] = test_data['SibSp'] + test_data['Parch'] + 1\n",
    "X_test = test_data[['Pclass', 'Sex', 'Families', 'fare_norm']].values"
   ],
   "execution_count":36,
   "outputs":[
    
   ],
   "metadata":{
    "datalore":{
     "node_id":"h8MDkJTVMdXOtMmDB5HEsQ",
     "type":"CODE",
     "hide_input_from_viewers":true,
     "hide_output_from_viewers":true
    }
   }
  },
  {
   "cell_type":"code",
   "source":[
    "print(X_test)"
   ],
   "execution_count":37,
   "outputs":[
    {
     "name":"stdout",
     "text":[
      "[[ 3.          0.          1.         -0.49781052]\n",
      " [ 3.          1.          2.         -0.51265996]\n",
      " [ 2.          0.          1.         -0.46453181]\n",
      " ...\n",
      " [ 3.          0.          1.         -0.50818292]\n",
      " [ 3.          0.          1.         -0.4938564 ]\n",
      " [ 3.          0.          3.         -0.23762123]]\n"
     ],
     "output_type":"stream"
    }
   ],
   "metadata":{
    "datalore":{
     "node_id":"XOuWjyjyeyKxIB6g9h9cFM",
     "type":"CODE",
     "hide_input_from_viewers":true,
     "hide_output_from_viewers":true
    }
   }
  },
  {
   "cell_type":"code",
   "source":[
    "y_pred = model.predict(X_test)\n",
    "y_final = (y_pred > 0.5).astype(int).reshape(X_test.shape[0])\n",
    "\n",
    "output = pd.DataFrame({'PassengerId': test_data['PassengerId'], 'Survived': y_final})"
   ],
   "execution_count":81,
   "outputs":[
    {
     "name":"stdout",
     "text":[
      "     PassengerId  Pclass                                          Name  Sex  \\\n",
      "0            892       3                              Kelly, Mr. James    0   \n",
      "1            893       3              Wilkes, Mrs. James (Ellen Needs)    1   \n",
      "2            894       2                     Myles, Mr. Thomas Francis    0   \n",
      "3            895       3                              Wirz, Mr. Albert    0   \n",
      "4            896       3  Hirvonen, Mrs. Alexander (Helga E Lindqvist)    1   \n",
      "..           ...     ...                                           ...  ...   \n",
      "413         1305       3                            Spector, Mr. Woolf    0   \n",
      "414         1306       1                  Oliva y Ocana, Dona. Fermina    1   \n",
      "415         1307       3                  Saether, Mr. Simon Sivertsen    0   \n",
      "416         1308       3                           Ware, Mr. Frederick    0   \n",
      "417         1309       3                      Peter, Master. Michael J    0   \n",
      "\n",
      "      Age  SibSp  Parch              Ticket      Fare Cabin Embarked  \\\n",
      "0    34.5      0      0              330911    7.8292   NaN        Q   \n",
      "1    47.0      1      0              363272    7.0000   NaN        S   \n",
      "2    62.0      0      0              240276    9.6875   NaN        Q   \n",
      "3    27.0      0      0              315154    8.6625   NaN        S   \n",
      "4    22.0      1      1             3101298   12.2875   NaN        S   \n",
      "..    ...    ...    ...                 ...       ...   ...      ...   \n",
      "413   NaN      0      0           A.5. 3236    8.0500   NaN        S   \n",
      "414  39.0      0      0            PC 17758  108.9000  C105        C   \n",
      "415  38.5      0      0  SOTON\/O.Q. 3101262    7.2500   NaN        S   \n",
      "416   NaN      0      0              359309    8.0500   NaN        S   \n",
      "417   NaN      1      1                2668   22.3583   NaN        C   \n",
      "\n",
      "     fare_norm  Families  \n",
      "0    -0.497811         1  \n",
      "1    -0.512660         2  \n",
      "2    -0.464532         1  \n",
      "3    -0.482888         1  \n",
      "4    -0.417971         3  \n",
      "..         ...       ...  \n",
      "413  -0.493856         1  \n",
      "414   1.312180         1  \n",
      "415  -0.508183         1  \n",
      "416  -0.493856         1  \n",
      "417  -0.237621         3  \n",
      "\n",
      "[418 rows x 13 columns]\n"
     ],
     "output_type":"stream"
    }
   ],
   "metadata":{
    "datalore":{
     "node_id":"1CP8Bb6NHlWEh0J8sfiXfj",
     "type":"CODE",
     "hide_input_from_viewers":true,
     "hide_output_from_viewers":true
    }
   }
  },
  {
   "cell_type":"code",
   "source":[
    "print(output)"
   ],
   "execution_count":39,
   "outputs":[
    {
     "name":"stdout",
     "text":[
      "     PassengerId  Survived\n",
      "0            892         0\n",
      "1            893         0\n",
      "2            894         0\n",
      "3            895         0\n",
      "4            896         0\n",
      "..           ...       ...\n",
      "413         1305         0\n",
      "414         1306         1\n",
      "415         1307         0\n",
      "416         1308         0\n",
      "417         1309         0\n",
      "\n",
      "[418 rows x 2 columns]\n"
     ],
     "output_type":"stream"
    }
   ],
   "metadata":{
    "datalore":{
     "node_id":"P1ZhMOLfum7gcoB2axEPjB",
     "type":"CODE",
     "hide_input_from_viewers":true,
     "hide_output_from_viewers":true
    }
   }
  },
  {
   "cell_type":"code",
   "source":[
    "output.to_csv('result.csv', index=False)"
   ],
   "execution_count":54,
   "outputs":[
    
   ],
   "metadata":{
    "datalore":{
     "node_id":"d2UcOlqY7fGSGDEjjNLeTZ",
     "type":"CODE",
     "hide_input_from_viewers":true,
     "hide_output_from_viewers":true
    }
   }
  },
  {
   "cell_type":"code",
   "source":[
    "''' \n",
    "    The accuracy on test data is only 70.5%.\n",
    "    check the model \n",
    "    in terms of bias and variance.\n",
    "    Next I will calculate the cost for cross validation data set and train data.\n",
    "    From here, we could know if it is underfit or overfit.\n",
    "'''"
   ],
   "execution_count":76,
   "outputs":[
    
   ],
   "metadata":{
    "datalore":{
     "node_id":"IcExLUDHKKfPTiVSfWUmSJ",
     "type":"CODE",
     "hide_input_from_viewers":true,
     "hide_output_from_viewers":true
    }
   }
  },
  {
   "cell_type":"code",
   "source":[
    "y_pred_train = model.predict(X_train)\n",
    "y_final_train = (y_pred_train > 0.5).astype(int).reshape(X_train.shape[0])\n",
    "\n",
    "output_train = pd.DataFrame({'PassengerId': train_data['PassengerId'], 'Survived': y_final_train, \n",
    "                         'real_sur': train_data['Survived']})\n",
    "counter_train = 0\n",
    "for i in range(len(output_train)):\n",
    "    if output_train.Survived.values[i] == output_train.real_sur.values[i]:\n",
    "        counter_train = counter_train + 1\n",
    "hit_rate_train = i\/len(output_train)\n",
    "print(f'The accuracy for train data is {hit_rate_train}')"
   ],
   "execution_count":82,
   "outputs":[
    {
     "name":"stdout",
     "text":[
      "The accuracy for train data is 0.9988776655443322\n"
     ],
     "output_type":"stream"
    }
   ],
   "metadata":{
    "datalore":{
     "node_id":"GxuREjSuqCtnvywPAezsoT",
     "type":"CODE",
     "hide_input_from_viewers":true,
     "hide_output_from_viewers":true
    }
   }
  },
  {
   "cell_type":"code",
   "source":[
    
   ],
   "execution_count":null,
   "outputs":[
    
   ],
   "metadata":{
    "datalore":{
     "node_id":"Xj64SIVLsiuVfhWGsmhYPB",
     "type":"CODE",
     "hide_input_from_viewers":true,
     "hide_output_from_viewers":true
    }
   }
  }
 ],
 "metadata":{
  "kernelspec":{
   "display_name":"Python",
   "language":"python",
   "name":"python"
  },
  "datalore":{
   "version":1,
   "computation_mode":"JUPYTER",
   "package_manager":"pip",
   "base_environment":"default",
   "packages":[
    
   ]
  }
 },
 "nbformat":4,
 "nbformat_minor":4
}